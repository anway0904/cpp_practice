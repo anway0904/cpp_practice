{
 "cells": [
  {
   "cell_type": "markdown",
   "metadata": {},
   "source": [
    "# 1. String Join"
   ]
  },
  {
   "cell_type": "code",
   "execution_count": 89,
   "metadata": {},
   "outputs": [],
   "source": [
    "test_case_1 = [\"cd\", \"ab\",\"bc\", \"de\", \"fz\", \"ef\"]\n",
    "test_case_2 = [\"ac\", \"cz\"]\n",
    "test_case_3 = [\"cz\", \"ac\"]\n",
    "test_case_4 =  [\"blitz\", \"apple\", \"eat\", \"tiger\", \"regal\", \"lamb\"]"
   ]
  },
  {
   "cell_type": "code",
   "execution_count": 90,
   "metadata": {},
   "outputs": [
    {
     "name": "stdout",
     "output_type": "stream",
     "text": [
      "{'b': 'blitz', 'a': 'apple', 'e': 'eat', 't': 'tiger', 'r': 'regal', 'l': 'lamb'}\n",
      "appleatigeregalamblitz\n"
     ]
    }
   ],
   "source": [
    "d = {}\n",
    "for s in test_case_4:\n",
    "    d[s[0]] = s\n",
    "\n",
    "start = \"a\"\n",
    "res = \"\"\n",
    "while start != \"z\":\n",
    "    res += d[start][:-1]\n",
    "    start = d[start][-1]\n",
    "\n",
    "res += 'z'\n",
    "print(d)\n",
    "print(res)\n"
   ]
  },
  {
   "cell_type": "markdown",
   "metadata": {},
   "source": [
    "# 2. Number Trajectory Intersection"
   ]
  },
  {
   "cell_type": "code",
   "execution_count": 62,
   "metadata": {},
   "outputs": [],
   "source": [
    "def get_next_num(n:int)->int:\n",
    "    og_n = n\n",
    "    s = 0\n",
    "    while n!=0:\n",
    "        s += n%10\n",
    "        n = n//10\n",
    "\n",
    "    return og_n + s"
   ]
  },
  {
   "cell_type": "code",
   "execution_count": 61,
   "metadata": {},
   "outputs": [],
   "source": [
    "import matplotlib.pyplot as plt"
   ]
  },
  {
   "cell_type": "code",
   "execution_count": 100,
   "metadata": {},
   "outputs": [
    {
     "name": "stdout",
     "output_type": "stream",
     "text": [
      "Starting Number 1: 143766\n",
      "Starting Number 2: 143739\n",
      "Common Number: 5755456\n"
     ]
    }
   ],
   "source": [
    "def sum_of_digits(n):\n",
    "    return sum(int(digit) for digit in str(n))\n",
    "\n",
    "def find_previous_number(n):\n",
    "    return n - sum_of_digits(n)\n",
    "\n",
    "def generate_numbers(common_number, steps=200000):\n",
    "    # Step 1: Work backward from the common number\n",
    "    sequence = [common_number]\n",
    "    for _ in range(steps):\n",
    "        previous = find_previous_number(sequence[-1])\n",
    "        sequence.append(previous)\n",
    "\n",
    "    # Step 2: Generate two different starting numbers\n",
    "    starting_number_1 = sequence[-1]  # The last number in the sequence\n",
    "    starting_number_2 = find_previous_number(starting_number_1)  # One step before\n",
    "\n",
    "    return starting_number_1, starting_number_2, common_number\n",
    "\n",
    "common_number = 5755456\n",
    "starting_number_1, starting_number_2, common_number = generate_numbers(common_number)\n",
    "\n",
    "print(f\"Starting Number 1: {starting_number_1}\")\n",
    "print(f\"Starting Number 2: {starting_number_2}\")\n",
    "print(f\"Common Number: {common_number}\")"
   ]
  }
 ],
 "metadata": {
  "kernelspec": {
   "display_name": "Python 3",
   "language": "python",
   "name": "python3"
  },
  "language_info": {
   "codemirror_mode": {
    "name": "ipython",
    "version": 3
   },
   "file_extension": ".py",
   "mimetype": "text/x-python",
   "name": "python",
   "nbconvert_exporter": "python",
   "pygments_lexer": "ipython3",
   "version": "3.10.12"
  }
 },
 "nbformat": 4,
 "nbformat_minor": 2
}
